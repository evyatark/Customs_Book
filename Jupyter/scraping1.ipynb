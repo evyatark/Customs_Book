{
 "cells": [
  {
   "cell_type": "code",
   "execution_count": 1,
   "id": "9a34b94e",
   "metadata": {},
   "outputs": [],
   "source": [
    "from urllib.request import urlopen\n",
    "from bs4 import BeautifulSoup\n",
    "%config Completer.use_jedi = False"
   ]
  },
  {
   "cell_type": "code",
   "execution_count": 2,
   "id": "e394e66c",
   "metadata": {},
   "outputs": [],
   "source": [
    "#customsItemId = 29581\n",
    "customsItemId = 32514"
   ]
  },
  {
   "cell_type": "code",
   "execution_count": 3,
   "id": "9cb039a5",
   "metadata": {},
   "outputs": [],
   "source": [
    "url = \"https://shaarolami-query.customs.mof.gov.il/CustomspilotWeb/he/CustomsBook/Import/ImportCustomsItemDetails?customsItemId=\" + str(customsItemId)\n"
   ]
  },
  {
   "cell_type": "code",
   "execution_count": 4,
   "id": "20d89c97",
   "metadata": {},
   "outputs": [
    {
     "data": {
      "text/plain": [
       "'https://shaarolami-query.customs.mof.gov.il/CustomspilotWeb/he/CustomsBook/Import/ImportCustomsItemDetails?customsItemId=32514'"
      ]
     },
     "execution_count": 4,
     "metadata": {},
     "output_type": "execute_result"
    }
   ],
   "source": [
    "url\n"
   ]
  },
  {
   "cell_type": "code",
   "execution_count": 5,
   "id": "5abb09c0",
   "metadata": {},
   "outputs": [],
   "source": [
    "page = urlopen(url)\n",
    "html_bytes = page.read()\n",
    "html = html_bytes.decode(\"utf-8\")\n",
    "soup = BeautifulSoup(html, \"html.parser\")"
   ]
  },
  {
   "cell_type": "code",
   "execution_count": 6,
   "id": "a6435737",
   "metadata": {},
   "outputs": [
    {
     "data": {
      "text/plain": [
       "145"
      ]
     },
     "execution_count": 6,
     "metadata": {},
     "output_type": "execute_result"
    }
   ],
   "source": [
    "title_index = html.find(\"<title>\")\n",
    "title_index"
   ]
  },
  {
   "cell_type": "code",
   "execution_count": 7,
   "id": "58a64541",
   "metadata": {},
   "outputs": [
    {
     "data": {
      "text/plain": [
       "[<title> פרטי פרט מכס</title>]"
      ]
     },
     "execution_count": 7,
     "metadata": {},
     "output_type": "execute_result"
    }
   ],
   "source": [
    "soup.find_all(\"title\")"
   ]
  },
  {
   "cell_type": "code",
   "execution_count": 8,
   "id": "ab6e7218",
   "metadata": {},
   "outputs": [
    {
     "data": {
      "text/plain": [
       "<title> פרטי פרט מכס</title>"
      ]
     },
     "execution_count": 8,
     "metadata": {},
     "output_type": "execute_result"
    }
   ],
   "source": [
    "soup.title"
   ]
  },
  {
   "cell_type": "code",
   "execution_count": 9,
   "id": "c993ab88",
   "metadata": {},
   "outputs": [
    {
     "name": "stdout",
     "output_type": "stream",
     "text": [
      "2009000000\n",
      "2009100000\n",
      "2009110000\n",
      "2009111000\n",
      "2009111900\n",
      "2009111910/5\n"
     ]
    }
   ],
   "source": [
    "# customItems of all parents of '2009111910/5'\n",
    "items = soup.find_all(\"span\", class_=\"treeTitle\")\n",
    "for item in items:\n",
    "    #print(item.parent.name)\n",
    "    print(item.text.strip())"
   ]
  },
  {
   "cell_type": "code",
   "execution_count": 10,
   "id": "d4e5b69a",
   "metadata": {},
   "outputs": [
    {
     "data": {
      "text/plain": [
       "'2009111910/5'"
      ]
     },
     "execution_count": 10,
     "metadata": {},
     "output_type": "execute_result"
    }
   ],
   "source": [
    "# most detailed customItem ('2009111910/5': 10 digits + slash + additional digit)\n",
    "item = soup.find_all(\"span\", class_=\"treeTitle\")[-1]\n",
    "customItem = item.text.strip()\n",
    "customItem"
   ]
  },
  {
   "cell_type": "code",
   "execution_count": 11,
   "id": "1fec3647",
   "metadata": {},
   "outputs": [
    {
     "data": {
      "text/plain": [
       "'המשמש לייצור משקה שמוטל עליו מס, ובלבד שישמש כאמור וישולם  מס על המשקה (מותנה )'"
      ]
     },
     "execution_count": 11,
     "metadata": {},
     "output_type": "execute_result"
    }
   ],
   "source": [
    "# Hebrew description of the most specific customItem\n",
    "# (This does not fully describes the item! you usually need Hebrew descriptions of parents to understand what is the item)\n",
    "itemParent = item.parent.parent.find(\"div\", style=\"display:none\")\n",
    "customItemLabel = itemParent.text.strip()\n",
    "customItemLabel"
   ]
  },
  {
   "cell_type": "code",
   "execution_count": 12,
   "id": "61c04caa",
   "metadata": {},
   "outputs": [
    {
     "data": {
      "text/plain": [
       "'32514'"
      ]
     },
     "execution_count": 12,
     "metadata": {},
     "output_type": "execute_result"
    }
   ],
   "source": [
    "# The customItemID of the item (used in the URL, and also in SQL tables)\n",
    "items = soup.find_all(\"li\")\n",
    "last = items[-1]\n",
    "itemId = last.attrs[\"id\"]\n",
    "itemId"
   ]
  },
  {
   "cell_type": "markdown",
   "id": "9c43fe68",
   "metadata": {},
   "source": [
    "## scraping the part of 'דרישות חוקיות' in the page of this customItem"
   ]
  },
  {
   "cell_type": "code",
   "execution_count": 13,
   "id": "8795efc7",
   "metadata": {},
   "outputs": [
    {
     "data": {
      "text/plain": [
       "2"
      ]
     },
     "execution_count": 13,
     "metadata": {},
     "output_type": "execute_result"
    }
   ],
   "source": [
    "drishotTable = soup.find(\"table\", class_=\"legalDemandsTable\")\n",
    "drishotBody = drishotTable.find(\"tbody\")\n",
    "len(drishotBody.find_all(\"tr\"))\n"
   ]
  },
  {
   "cell_type": "markdown",
   "id": "9f050a81",
   "metadata": {},
   "source": [
    "## retrieve regulators"
   ]
  },
  {
   "cell_type": "code",
   "execution_count": 14,
   "id": "6a836fd1",
   "metadata": {},
   "outputs": [
    {
     "name": "stdout",
     "output_type": "stream",
     "text": [
      "משרד הבריאות\n",
      "משרד הבריאות\n"
     ]
    }
   ],
   "source": [
    "trs = drishotBody.find_all(\"tr\")\n",
    "for tr in trs:\n",
    "    tdx = tr.find_all(\"td\")[4]\n",
    "    print(tdx.text.strip())"
   ]
  },
  {
   "cell_type": "markdown",
   "id": "475aeee1",
   "metadata": {},
   "source": [
    "## retrieve אישורים"
   ]
  },
  {
   "cell_type": "code",
   "execution_count": 31,
   "id": "1ebc1b89",
   "metadata": {},
   "outputs": [
    {
     "name": "stdout",
     "output_type": "stream",
     "text": [
      "'תוספת 2 לצו יבוא חופשי' '‎2000000000' 'למעט 20096000לא כולל 2009600000,' 'משרד הבריאות' 'אישור שחרור תחנת מעבר (0705) -'\n",
      "'תוספת 2 לצו יבוא חופשי' '‎2000000000' 'למעט 20096000לא כולל 2009600000,' 'משרד הבריאות' 'אישור שירות המזון (0701) -'\n"
     ]
    }
   ],
   "source": [
    "def findTd(tr, index):\n",
    "    return \"'\" + tr.find_all(\"td\")[index].text.strip() + \"'\"\n",
    "\n",
    "trs = drishotBody.find_all(\"tr\")\n",
    "for tr in trs:\n",
    "#    print(findTd(tr, 1), findTd(tr, 2), findTd(tr, 3), findTd(tr, 4), findTd(tr, 5),\n",
    "#          findTd(tr, 6), findTd(tr, 7), findTd(tr, 8), findTd(tr, 9), findTd(tr, 10))\n",
    "    print(findTd(tr, 1), findTd(tr, 2), findTd(tr, 3), findTd(tr, 4), findTd(tr, 5))"
   ]
  },
  {
   "cell_type": "markdown",
   "id": "7b0edbe1",
   "metadata": {},
   "source": [
    "## scraping the part of 'הנחיות סיווג' in the page of this customItem"
   ]
  },
  {
   "cell_type": "code",
   "execution_count": 33,
   "id": "2d41a3ac",
   "metadata": {},
   "outputs": [
    {
     "data": {
      "text/plain": [
       "2"
      ]
     },
     "execution_count": 33,
     "metadata": {},
     "output_type": "execute_result"
    }
   ],
   "source": [
    "# guidanceTable\n",
    "sivugTable = soup.find(\"table\", class_=\"guidanceTable\")\n",
    "body = sivugTable.find(\"tbody\")\n",
    "len(body.find_all(\"tr\"))"
   ]
  },
  {
   "cell_type": "code",
   "execution_count": 27,
   "id": "192e7d2f",
   "metadata": {},
   "outputs": [
    {
     "name": "stdout",
     "output_type": "stream",
     "text": [
      "'001/13' '20.09 מיץ אלו-ורה ((Aloe vera juice' 'הנחיה לפרט מכס' '‎2009000000' '01/03/2013'\n",
      "'001/22' '\"ליים\" ו\"לימון\"' 'הנחיה לפרט מכס' '‎2009000000' '08/02/2022'\n"
     ]
    }
   ],
   "source": [
    "def findTd(tr, index):\n",
    "    return \"'\" + tr.find_all(\"td\")[index].text.strip() + \"'\"\n",
    "\n",
    "trs = body.find_all(\"tr\")\n",
    "for tr in trs:\n",
    "    #td1 = findTd(tr, 1)\n",
    "    print(findTd(tr, 1), findTd(tr, 2), findTd(tr, 3), findTd(tr, 4), findTd(tr, 5))\n"
   ]
  },
  {
   "cell_type": "markdown",
   "id": "56d3f1fe",
   "metadata": {},
   "source": [
    "## scraping the part of 'תדפיסי חקיקה מקחים' in the page of this customItem"
   ]
  },
  {
   "cell_type": "code",
   "execution_count": 34,
   "id": "d61a3880",
   "metadata": {},
   "outputs": [
    {
     "data": {
      "text/plain": [
       "1"
      ]
     },
     "execution_count": 34,
     "metadata": {},
     "output_type": "execute_result"
    }
   ],
   "source": [
    "# makachTable\n",
    "makachTable = soup.find(\"table\", class_=\"mekachTable\")\n",
    "body = makachTable.find(\"tbody\")\n",
    "len(body.find_all(\"tr\"))"
   ]
  },
  {
   "cell_type": "code",
   "execution_count": 78,
   "id": "662b5420",
   "metadata": {},
   "outputs": [
    {
     "name": "stdout",
     "output_type": "stream",
     "text": [
      "'0' '' '01/01/2022~~שבת כ\"ח טבת תשפ\"ב' 'משקאות פרטים מותנים'\n"
     ]
    }
   ],
   "source": [
    "def removeUnPrintableCaracters(str):\n",
    "    if str.isprintable():\n",
    "        return str\n",
    "    ret = \"\"\n",
    "    for x in str:\n",
    "        if (x.isprintable()):\n",
    "            ret = ret + x\n",
    "        else:\n",
    "            ret = ret + '~'\n",
    "    return ret\n",
    "\n",
    "    \n",
    "trs = body.find_all(\"tr\")\n",
    "for tr in trs:\n",
    "    print(findTd(tr, 1), findTd(tr, 2), removeUnPrintableCaracters(findTd(tr, 3)), findTd(tr, 4))"
   ]
  },
  {
   "cell_type": "markdown",
   "id": "e6254eb4",
   "metadata": {},
   "source": [
    "## a function to scrape any customItemId"
   ]
  },
  {
   "cell_type": "code",
   "execution_count": 97,
   "id": "471ea485",
   "metadata": {},
   "outputs": [
    {
     "name": "stdout",
     "output_type": "stream",
     "text": [
      "3460  ##\n",
      "'תוספת 2 לצו יבוא חופשי' '‎8415109000/2' 'אלה שתפוקת הקירור שלהם אינה עולה על 18 קו\"ט' 'משרד האנרגיה' 'אישור אגף ניהול משאבי תשתיות (1001)                                                     \n",
      "                                                        (\n",
      "                                                            \n",
      "                                                                אישור אגף ניהול משאבי תשתיות (1001) - מקררים\n",
      "                                                            \n",
      "                                                                , \n",
      "                                                            \n",
      "                                                                אישור אגף ניהול משאבי תשתיות (1001) - מזגנים\n",
      "                                                            \n",
      "                                                                , \n",
      "                                                            \n",
      "                                                                אישור אגף ניהול משאבי תשתיות (1001) - טלוויזיות\n",
      "                                                            \n",
      "                                                                , \n",
      "                                                            \n",
      "                                                                אישור אגף ניהול משאבי תשתיות (1001) - צ'ילרים\n",
      "                                                            \n",
      "                                                        )'\n",
      "'תוספת 2 לצו יבוא חופשי' '‎8415109000/2' 'אלה שתפוקת הקירור שלהם אינה עולה על 18 קו\"ט' 'מעבדת בדיקה' 'אישור שחרור מותנה (2402) 994                                                    \n",
      "                                                        (\n",
      "                                                            \n",
      "                                                                אישור שחרור מותנה (2402) - מעבדת מכון התקנים\n",
      "                                                            \n",
      "                                                                , \n",
      "                                                            \n",
      "                                                                אישור שחרור מותנה (2402) - מעבדת חרמון\n",
      "                                                            \n",
      "                                                                , \n",
      "                                                            \n",
      "                                                                אישור שחרור מותנה (2402) - מעבדת ITL\n",
      "                                                            \n",
      "                                                                , \n",
      "                                                            \n",
      "                                                                אישור שחרור מותנה (2402) - מעבדת סיסטם\n",
      "                                                            \n",
      "                                                        )'\n",
      "'תוספת 2 לצו יבוא חופשי' '‎8415109000/2' 'אלה שתפוקת הקירור שלהם אינה עולה על 18 קו\"ט' 'משרד הכלכלה' 'אישור שחרור (0325) 994'\n",
      "'תוספת 2 לצו יבוא חופשי' '‎8415109000/2' 'אלה שתפוקת הקירור שלהם אינה עולה על 18 קו\"ט' 'מכון התקנים הישראלי' 'אישור לשחרור (0402) - 994'\n",
      "'תוספת 2 לצו יבוא חופשי' '‎8400000000' 'נגררים שתוכננו ויוצרו בידי היצרן לשימושים חקלאיים' 'משרד החקלאות' 'אישור מיכון וטכנולוגיה (0104)'\n",
      "'תוספת 2 לצו יבוא חופשי' '‎8400000000' 'טובין המותקנים על גרורים (Trailers), גרורים נתמכים (Semi – trailers), הנגררים על ידי כלי רכב, לפי נוהלי אגף הרכב' 'משרד התחבורה' 'אישור אגף הרכב ושירותי תחזוקה - גף צמ\"ה (0219)'\n",
      "'תוספת 1 לצו יבוא חופשי' '‎8415000000' 'המופעלים ב- HCFC או R22' 'משרד הכלכלה' 'רישיון מינהל סביבה ופיתוח בר קיימא (0311)'\n",
      "'תוספת 2 לצו יבוא אישי' '‎8415000000' 'מזגן אוויר' 'משרד הכלכלה' 'אישור שחרור (0325) 994'\n",
      "'תוספת 2 לצו יבוא אישי' '‎8415000000' 'מזגן אוויר' 'מעבדת בדיקה' 'אישור שחרור מותנה (2402) 994                                                    \n",
      "                                                        (\n",
      "                                                            \n",
      "                                                                אישור שחרור מותנה (2402) - מעבדת מכון התקנים\n",
      "                                                            \n",
      "                                                                , \n",
      "                                                            \n",
      "                                                                אישור שחרור מותנה (2402) - מעבדת חרמון\n",
      "                                                            \n",
      "                                                                , \n",
      "                                                            \n",
      "                                                                אישור שחרור מותנה (2402) - מעבדת ITL\n",
      "                                                            \n",
      "                                                                , \n",
      "                                                            \n",
      "                                                                אישור שחרור מותנה (2402) - מעבדת סיסטם\n",
      "                                                            \n",
      "                                                        )'\n",
      "'תוספת 2 לצו יבוא אישי' '‎8415000000' 'מזגן אוויר' 'מכון התקנים הישראלי' 'אישור לשחרור (0402) - 994'\n",
      "'תוספת 2 לצו יבוא אישי' '‎8400000000' 'טובין המותקנים על גרורים (Trailers), גרורים נתמכים (Semi – trailers), הנגררים על ידי כלי רכב' 'משרד התחבורה' 'אישור אגף הרכב ושירותי תחזוקה - גף צמ\"ה (0219)'\n",
      "'תוספת 2 לצו יבוא אישי' '‎8400000000' 'נגררים שתוכננו ויוצרו בידי היצרן לשימושים חקלאיים' 'משרד החקלאות' 'אישור מיכון וטכנולוגיה (0104)'\n",
      "'תוספת 1 לצו יבוא אישי' '‎8415000000' 'המופעלים ב- HCFC או R22' 'משרד הכלכלה' 'רישיון מינהל תעשיות (0308)'\n",
      "32524  ##\n",
      "'תוספת 2 לצו יבוא חופשי' '‎2000000000' 'למעט 20096000לא כולל 2009600000,' 'משרד הבריאות' 'אישור שחרור תחנת מעבר (0705) -'\n",
      "'תוספת 2 לצו יבוא חופשי' '‎2000000000' 'למעט 20096000לא כולל 2009600000,' 'משרד הבריאות' 'אישור שירות המזון (0701) -'\n",
      "27189  ##\n",
      "add validDate\n",
      "'תוספת 2 לצו יבוא חופשי' '‎9706009000/4' 'עתיקה כהגדרתה בחוק העתיקות' 'רשות העתיקות' 'אישור רשות העתיקות (2101) -'\n",
      "'תוספת 2 לצו יבוא אישי' '‎9706009000/4' 'עתיקה' 'רשות העתיקות' 'אישור רשות העתיקות (2101) -'\n"
     ]
    }
   ],
   "source": [
    "def findPageByUrl(url):\n",
    "    page = urlopen(url)\n",
    "    html_bytes = page.read()\n",
    "    html = html_bytes.decode(\"utf-8\")\n",
    "    soup = BeautifulSoup(html, \"html.parser\")\n",
    "    return soup\n",
    "    \n",
    "def scrapeAll(customsItemId):\n",
    "    url = \"https://shaarolami-query.customs.mof.gov.il/CustomspilotWeb/he/CustomsBook/Import/ImportCustomsItemDetails?customsItemId=\" + str(customsItemId)\n",
    "    #url = url + '&validToDate=12%2F31%2F2021%2000%3A00%3A00'\n",
    "    #page = urlopen(url)\n",
    "    #html_bytes = page.read()\n",
    "    #html = html_bytes.decode(\"utf-8\")\n",
    "    #soup = BeautifulSoup(html, \"html.parser\")\n",
    "    soup = findPageByUrl(url)\n",
    "\n",
    "    # most detailed customItem ('2009111910/5': 10 digits + slash + additional digit)\n",
    "    items = soup.find_all(\"span\", class_=\"treeTitle\")\n",
    "    print(customsItemId, ' ##')\n",
    "    if (len(items) == 0):\n",
    "        print('add validDate')\n",
    "        soup = findPageByUrl(url + '&validToDate=12%2F31%2F2021%2000%3A00%3A00')\n",
    "        items = soup.find_all(\"span\", class_=\"treeTitle\")\n",
    "    if (len(items) == 0):\n",
    "#        print(customsItemId, ' ##')\n",
    "        return\n",
    "    item = soup.find_all(\"span\", class_=\"treeTitle\")[-1]\n",
    "    customItem = item.text.strip()\n",
    "\n",
    "    drishotTable = soup.find(\"table\", class_=\"legalDemandsTable\")\n",
    "    if drishotTable:\n",
    "        drishotBody = drishotTable.find(\"tbody\")\n",
    "        trs = drishotBody.find_all(\"tr\")\n",
    "        for tr in trs:\n",
    "#    print(findTd(tr, 1), findTd(tr, 2), findTd(tr, 3), findTd(tr, 4), findTd(tr, 5),\n",
    "#          findTd(tr, 6), findTd(tr, 7), findTd(tr, 8), findTd(tr, 9), findTd(tr, 10))\n",
    "            print(findTd(tr, 1), findTd(tr, 2), findTd(tr, 3), findTd(tr, 4), findTd(tr, 5))\n",
    "    else:\n",
    "        print('no Drishot')\n",
    "\n",
    "#scrapeAll(32514)\n",
    "#scrapeAll(29861)\n",
    "#scrapeAll(27189)\n",
    "#scrapeAll(32514)\n",
    "\n",
    "list = [3460,\n",
    "        32524, #32512, 32513, 32514, 32515, 29861, \n",
    "        27189]\n",
    "for id in list:\n",
    "    scrapeAll(id)"
   ]
  }
 ],
 "metadata": {
  "kernelspec": {
   "display_name": "Python 3 (ipykernel)",
   "language": "python",
   "name": "python3"
  },
  "language_info": {
   "codemirror_mode": {
    "name": "ipython",
    "version": 3
   },
   "file_extension": ".py",
   "mimetype": "text/x-python",
   "name": "python",
   "nbconvert_exporter": "python",
   "pygments_lexer": "ipython3",
   "version": "3.8.10"
  }
 },
 "nbformat": 4,
 "nbformat_minor": 5
}
