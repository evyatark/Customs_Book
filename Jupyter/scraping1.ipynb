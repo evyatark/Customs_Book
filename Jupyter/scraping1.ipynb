{
 "cells": [
  {
   "cell_type": "code",
   "execution_count": 27,
   "id": "9a34b94e",
   "metadata": {},
   "outputs": [],
   "source": [
    "from urllib.request import urlopen\n",
    "from bs4 import BeautifulSoup\n",
    "%config Completer.use_jedi = False"
   ]
  },
  {
   "cell_type": "code",
   "execution_count": 88,
   "id": "e394e66c",
   "metadata": {},
   "outputs": [],
   "source": [
    "#customsItemId = 29581\n",
    "customsItemId = 32514"
   ]
  },
  {
   "cell_type": "code",
   "execution_count": 89,
   "id": "9cb039a5",
   "metadata": {},
   "outputs": [],
   "source": [
    "url = \"https://shaarolami-query.customs.mof.gov.il/CustomspilotWeb/he/CustomsBook/Import/ImportCustomsItemDetails?customsItemId=\" + str(customsItemId)\n"
   ]
  },
  {
   "cell_type": "code",
   "execution_count": 90,
   "id": "5abb09c0",
   "metadata": {},
   "outputs": [],
   "source": [
    "page = urlopen(url)\n",
    "html_bytes = page.read()\n",
    "html = html_bytes.decode(\"utf-8\")\n",
    "soup = BeautifulSoup(html, \"html.parser\")"
   ]
  },
  {
   "cell_type": "code",
   "execution_count": 91,
   "id": "a6435737",
   "metadata": {},
   "outputs": [
    {
     "data": {
      "text/plain": [
       "145"
      ]
     },
     "execution_count": 91,
     "metadata": {},
     "output_type": "execute_result"
    }
   ],
   "source": [
    "title_index = html.find(\"<title>\")\n",
    "title_index"
   ]
  },
  {
   "cell_type": "code",
   "execution_count": 81,
   "id": "58a64541",
   "metadata": {},
   "outputs": [
    {
     "data": {
      "text/plain": [
       "[<title> פרטי פרט מכס</title>]"
      ]
     },
     "execution_count": 81,
     "metadata": {},
     "output_type": "execute_result"
    }
   ],
   "source": [
    "soup.find_all(\"title\")"
   ]
  },
  {
   "cell_type": "code",
   "execution_count": 12,
   "id": "ab6e7218",
   "metadata": {},
   "outputs": [
    {
     "data": {
      "text/plain": [
       "<title> פרטי פרט מכס</title>"
      ]
     },
     "execution_count": 12,
     "metadata": {},
     "output_type": "execute_result"
    }
   ],
   "source": [
    "soup.title"
   ]
  },
  {
   "cell_type": "code",
   "execution_count": 92,
   "id": "c993ab88",
   "metadata": {},
   "outputs": [
    {
     "name": "stdout",
     "output_type": "stream",
     "text": [
      "2009000000\n",
      "2009100000\n",
      "2009110000\n",
      "2009111000\n",
      "2009111900\n",
      "2009111910/5\n"
     ]
    }
   ],
   "source": [
    "items = soup.find_all(\"span\", class_=\"treeTitle\")\n",
    "for item in items:\n",
    "    #print(item.parent.name)\n",
    "    print(item.text.strip())"
   ]
  },
  {
   "cell_type": "code",
   "execution_count": 93,
   "id": "d4e5b69a",
   "metadata": {},
   "outputs": [
    {
     "data": {
      "text/plain": [
       "'2009111910/5'"
      ]
     },
     "execution_count": 93,
     "metadata": {},
     "output_type": "execute_result"
    }
   ],
   "source": [
    "item = soup.find_all(\"span\", class_=\"treeTitle\")[-1]\n",
    "customItem = item.text.strip()\n",
    "customItem"
   ]
  },
  {
   "cell_type": "code",
   "execution_count": 94,
   "id": "1fec3647",
   "metadata": {},
   "outputs": [
    {
     "data": {
      "text/plain": [
       "'המשמש לייצור משקה שמוטל עליו מס, ובלבד שישמש כאמור וישולם  מס על המשקה (מותנה )'"
      ]
     },
     "execution_count": 94,
     "metadata": {},
     "output_type": "execute_result"
    }
   ],
   "source": [
    "itemParent = item.parent.parent.find(\"div\", style=\"display:none\")\n",
    "customItemLabel = itemParent.text.strip()\n",
    "customItemLabel"
   ]
  },
  {
   "cell_type": "code",
   "execution_count": 95,
   "id": "61c04caa",
   "metadata": {},
   "outputs": [
    {
     "data": {
      "text/plain": [
       "'32514'"
      ]
     },
     "execution_count": 95,
     "metadata": {},
     "output_type": "execute_result"
    }
   ],
   "source": [
    "items = soup.find_all(\"li\")\n",
    "last = items[-1]\n",
    "itemId = last.attrs[\"id\"]\n",
    "itemId"
   ]
  },
  {
   "cell_type": "code",
   "execution_count": 96,
   "id": "8795efc7",
   "metadata": {},
   "outputs": [
    {
     "data": {
      "text/plain": [
       "2"
      ]
     },
     "execution_count": 96,
     "metadata": {},
     "output_type": "execute_result"
    }
   ],
   "source": [
    "drishotTable = soup.find(\"table\", class_=\"legalDemandsTable\")\n",
    "drishotBody = drishotTable.find(\"tbody\")\n",
    "len(drishotBody.find_all(\"tr\"))\n"
   ]
  },
  {
   "cell_type": "markdown",
   "id": "9f050a81",
   "metadata": {},
   "source": [
    "## retrieve regulators"
   ]
  },
  {
   "cell_type": "code",
   "execution_count": 97,
   "id": "6a836fd1",
   "metadata": {},
   "outputs": [
    {
     "name": "stdout",
     "output_type": "stream",
     "text": [
      "משרד הבריאות\n",
      "משרד הבריאות\n"
     ]
    }
   ],
   "source": [
    "trs = drishotBody.find_all(\"tr\")\n",
    "for tr in trs:\n",
    "    tdx = tr.find_all(\"td\")[4]\n",
    "    print(tdx.text.strip())"
   ]
  },
  {
   "cell_type": "markdown",
   "id": "475aeee1",
   "metadata": {},
   "source": [
    "## retrieve אישורים"
   ]
  },
  {
   "cell_type": "code",
   "execution_count": 99,
   "id": "1ebc1b89",
   "metadata": {},
   "outputs": [
    {
     "name": "stdout",
     "output_type": "stream",
     "text": [
      "אישור שחרור תחנת מעבר (0705) -\n",
      "אישור שירות המזון (0701) -\n"
     ]
    }
   ],
   "source": [
    "trs = drishotBody.find_all(\"tr\")\n",
    "for tr in trs:\n",
    "    tdx = tr.find_all(\"td\")[5]\n",
    "    print(tdx.text.strip())"
   ]
  }
 ],
 "metadata": {
  "kernelspec": {
   "display_name": "Python 3 (ipykernel)",
   "language": "python",
   "name": "python3"
  },
  "language_info": {
   "codemirror_mode": {
    "name": "ipython",
    "version": 3
   },
   "file_extension": ".py",
   "mimetype": "text/x-python",
   "name": "python",
   "nbconvert_exporter": "python",
   "pygments_lexer": "ipython3",
   "version": "3.8.10"
  }
 },
 "nbformat": 4,
 "nbformat_minor": 5
}
